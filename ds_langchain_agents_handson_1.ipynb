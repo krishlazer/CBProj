{
 "cells": [
  {
   "cell_type": "code",
   "id": "initial_id",
   "metadata": {
    "collapsed": true,
    "ExecuteTime": {
     "end_time": "2024-05-04T07:19:27.019107Z",
     "start_time": "2024-05-04T07:19:17.576688Z"
    }
   },
   "source": [
    "from langchain.agents import AgentType, initialize_agent, load_tools\n",
    "from langchain_openai import OpenAI\n",
    "from langchain.tools import WikipediaQueryRun\n",
    "from langchain_community.utilities import WikipediaAPIWrapper\n",
    "\n",
    "wikipedia = WikipediaQueryRun(api_wrapper=WikipediaAPIWrapper())\n",
    "\n",
    "wikipedia.run(\"When is the Halley's comet appearing near Earth?\")"
   ],
   "execution_count": 11,
   "outputs": []
  },
  {
   "metadata": {
    "ExecuteTime": {
     "end_time": "2024-05-04T06:01:52.074167Z",
     "start_time": "2024-05-04T06:01:51.952300Z"
    }
   },
   "cell_type": "code",
   "source": [
    "from langchain_community.tools.wikidata.tool import WikidataAPIWrapper, WikidataQueryRun\n",
    "wikidata = WikidataQueryRun(api_wrapper=WikidataAPIWrapper())"
   ],
   "id": "38033c4c56423846",
   "execution_count": 8,
   "outputs": []
  },
  {
   "metadata": {
    "ExecuteTime": {
     "end_time": "2024-05-04T06:04:09.190768Z",
     "start_time": "2024-05-04T06:03:56.592240Z"
    }
   },
   "cell_type": "code",
   "source": "print(wikidata.invoke(\"Microsoft\"))",
   "id": "5bff3f2e8aadd7ae",
   "execution_count": 11,
   "outputs": []
  },
  {
   "metadata": {
    "ExecuteTime": {
     "end_time": "2024-05-04T07:05:08.361916Z",
     "start_time": "2024-05-04T07:04:52.399394Z"
    }
   },
   "cell_type": "code",
   "source": [
    "tools = load_tools([\"wikipedia\", \"llm-math\"], llm=OpenAI())\n",
    "\n",
    "agent = initialize_agent(\n",
    "    tools,\n",
    "    OpenAI(),\n",
    "    agent=AgentType.ZERO_SHOT_REACT_DESCRIPTION\n",
    ")\n",
    "\n",
    "resp = agent.invoke(\"How many years have passed since UN was inaugurated?\")"
   ],
   "id": "27053f4e97b4fd8e",
   "execution_count": 4,
   "outputs": []
  },
  {
   "metadata": {
    "ExecuteTime": {
     "end_time": "2024-05-04T07:05:14.339945Z",
     "start_time": "2024-05-04T07:05:14.312310Z"
    }
   },
   "cell_type": "code",
   "source": "resp",
   "id": "a3aa9077a4d1bb7f",
   "execution_count": 5,
   "outputs": []
  },
  {
   "metadata": {
    "ExecuteTime": {
     "end_time": "2024-05-04T07:06:25.054715Z",
     "start_time": "2024-05-04T07:06:25.045486Z"
    }
   },
   "cell_type": "code",
   "source": "import os",
   "id": "e1fec87c26f03045",
   "execution_count": 6,
   "outputs": []
  },
  {
   "metadata": {
    "ExecuteTime": {
     "end_time": "2024-05-04T07:06:58.303584Z",
     "start_time": "2024-05-04T07:06:58.286263Z"
    }
   },
   "cell_type": "code",
   "source": "serapi_api_key = os.getenv(\"SERPAPI_API_KEY\")",
   "id": "5f39050934aa79cb",
   "execution_count": 7,
   "outputs": []
  },
  {
   "metadata": {
    "ExecuteTime": {
     "end_time": "2024-05-04T07:15:47.802177Z",
     "start_time": "2024-05-04T07:15:33.073590Z"
    }
   },
   "cell_type": "code",
   "source": [
    "llm = OpenAI(temperature = 0.7)\n",
    "\n",
    "tools = load_tools([\"serpapi\", \"llm-math\"], llm=OpenAI())\n",
    "\n",
    "agent = initialize_agent(tools, OpenAI(), agent=AgentType.ZERO_SHOT_REACT_DESCRIPTION, verbose=True)\n",
    "agent.invoke(\"How many years passed between setting up of the League of Nations and the UN?\")"
   ],
   "id": "c576178cfd4e99ba",
   "execution_count": 10,
   "outputs": []
  },
  {
   "metadata": {
    "ExecuteTime": {
     "end_time": "2024-05-04T07:59:33.011645Z",
     "start_time": "2024-05-04T07:59:32.056029Z"
    }
   },
   "cell_type": "code",
   "source": [
    "from langchain.chains import ConversationChain\n",
    "\n",
    "conv1 = ConversationChain(llm=OpenAI(temperature=0.7))\n",
    "print(conv1.prompt.template)"
   ],
   "id": "255fe75abd8a0604",
   "execution_count": 12,
   "outputs": []
  },
  {
   "metadata": {
    "ExecuteTime": {
     "end_time": "2024-05-04T08:01:33.656297Z",
     "start_time": "2024-05-04T08:01:31.729458Z"
    }
   },
   "cell_type": "code",
   "source": "conv1.invoke(\"When was the UN setup?\")",
   "id": "21c84c263a12fce9",
   "execution_count": 13,
   "outputs": []
  },
  {
   "metadata": {
    "ExecuteTime": {
     "end_time": "2024-05-04T08:02:16.831900Z",
     "start_time": "2024-05-04T08:02:16.172010Z"
    }
   },
   "cell_type": "code",
   "source": "conv1.invoke(\"What is 11 + 21?\")",
   "id": "2d9c09ee163ef186",
   "execution_count": 14,
   "outputs": []
  },
  {
   "metadata": {
    "ExecuteTime": {
     "end_time": "2024-05-04T08:02:46.147164Z",
     "start_time": "2024-05-04T08:02:44.792643Z"
    }
   },
   "cell_type": "code",
   "source": "conv1.invoke(\"Where was it setup?\")",
   "id": "1c0836c918691fb9",
   "execution_count": 15,
   "outputs": []
  },
  {
   "metadata": {
    "ExecuteTime": {
     "end_time": "2024-05-04T08:04:19.202827Z",
     "start_time": "2024-05-04T08:04:18.155551Z"
    }
   },
   "cell_type": "code",
   "source": [
    "from langchain.chains import ConversationChain\n",
    "\n",
    "conv2 = ConversationChain(llm=OpenAI(temperature=0.7))\n",
    "print(conv2.prompt.template)"
   ],
   "id": "cae4994b306a4bf5",
   "execution_count": 16,
   "outputs": []
  },
  {
   "metadata": {
    "ExecuteTime": {
     "end_time": "2024-05-04T08:08:08.219548Z",
     "start_time": "2024-05-04T08:08:06.747431Z"
    }
   },
   "cell_type": "code",
   "source": "conv2.invoke(\"When was the UNSC setup?\")",
   "id": "9edaf327a981e7e0",
   "execution_count": 17,
   "outputs": []
  },
  {
   "metadata": {
    "ExecuteTime": {
     "end_time": "2024-05-04T08:08:52.233445Z",
     "start_time": "2024-05-04T08:08:50.897020Z"
    }
   },
   "cell_type": "code",
   "source": "conv2.invoke(\"Where is Canberra?\")",
   "id": "dad754b5faebb4d2",
   "execution_count": 18,
   "outputs": []
  },
  {
   "metadata": {
    "ExecuteTime": {
     "end_time": "2024-05-04T08:09:23.528398Z",
     "start_time": "2024-05-04T08:09:23.500760Z"
    }
   },
   "cell_type": "code",
   "source": "conv2.memory",
   "id": "6aaa1bddf4537a39",
   "execution_count": 19,
   "outputs": []
  },
  {
   "metadata": {
    "ExecuteTime": {
     "end_time": "2024-05-04T08:10:16.243616Z",
     "start_time": "2024-05-04T08:10:16.231851Z"
    }
   },
   "cell_type": "code",
   "source": "print(conv2.memory.buffer)",
   "id": "21996904a375c4c7",
   "execution_count": 20,
   "outputs": []
  },
  {
   "metadata": {
    "ExecuteTime": {
     "end_time": "2024-05-04T08:12:09.243415Z",
     "start_time": "2024-05-04T08:12:07.888273Z"
    }
   },
   "cell_type": "code",
   "source": "conv2.invoke(\"When was the film 'The General' by Buster Keaton released?\")",
   "id": "80ec2b531f78e6c",
   "execution_count": 21,
   "outputs": []
  },
  {
   "metadata": {
    "ExecuteTime": {
     "end_time": "2024-05-04T08:13:12.914555Z",
     "start_time": "2024-05-04T08:13:12.908445Z"
    }
   },
   "cell_type": "code",
   "source": "print(conv2.memory.buffer)",
   "id": "a2c09760accfae16",
   "execution_count": 23,
   "outputs": []
  },
  {
   "metadata": {
    "ExecuteTime": {
     "end_time": "2024-05-04T08:15:05.636175Z",
     "start_time": "2024-05-04T08:15:04.093482Z"
    }
   },
   "cell_type": "code",
   "source": "conv2.invoke(\"How many members does UNSC have?\")",
   "id": "b65ccf6a074865c5",
   "execution_count": 25,
   "outputs": []
  },
  {
   "metadata": {
    "ExecuteTime": {
     "end_time": "2024-05-04T08:15:31.877479Z",
     "start_time": "2024-05-04T08:15:31.861584Z"
    }
   },
   "cell_type": "code",
   "source": "print(conv2.memory.buffer)",
   "id": "405fad85d5616c0b",
   "execution_count": 26,
   "outputs": []
  },
  {
   "metadata": {
    "ExecuteTime": {
     "end_time": "2024-05-04T08:22:57.571941Z",
     "start_time": "2024-05-04T08:22:54.917491Z"
    }
   },
   "cell_type": "code",
   "source": [
    "from langchain.memory import ConversationBufferWindowMemory\n",
    "\n",
    "memory = ConversationBufferWindowMemory(k=1)\n",
    "\n",
    "conv = ConversationChain(llm=OpenAI(temperature=0.7), memory=memory)\n",
    "\n",
    "conv.invoke(\"Who won the first cricket world cup?\")"
   ],
   "id": "9ccdb090eae7c527",
   "execution_count": 27,
   "outputs": []
  },
  {
   "metadata": {
    "ExecuteTime": {
     "end_time": "2024-05-04T08:26:19.489100Z",
     "start_time": "2024-05-04T08:26:18.943213Z"
    }
   },
   "cell_type": "code",
   "source": "conv.invoke(\"what is 17 + 21 - 56?\")",
   "id": "7fc5cd389c529ab9",
   "execution_count": 28,
   "outputs": []
  },
  {
   "metadata": {
    "ExecuteTime": {
     "end_time": "2024-05-04T08:26:46.660453Z",
     "start_time": "2024-05-04T08:26:45.964901Z"
    }
   },
   "cell_type": "code",
   "source": "conv.invoke(\"Where was the final played?\")",
   "id": "b0df9060ba0f1f1b",
   "execution_count": 29,
   "outputs": []
  },
  {
   "metadata": {},
   "cell_type": "code",
   "execution_count": null,
   "source": "",
   "id": "fe8458a3d604294c",
   "outputs": []
  },
  {
   "metadata": {},
   "cell_type": "code",
   "execution_count": null,
   "source": "",
   "id": "4d1ea6662b7b6d3e",
   "outputs": []
  },
  {
   "metadata": {},
   "cell_type": "code",
   "execution_count": null,
   "source": "",
   "id": "78b3ef2cfbe501c1",
   "outputs": []
  },
  {
   "metadata": {},
   "cell_type": "code",
   "execution_count": null,
   "source": "",
   "id": "a13fc63b1ec24042",
   "outputs": []
  },
  {
   "metadata": {},
   "cell_type": "code",
   "execution_count": null,
   "source": "",
   "id": "d89606e8d507be64",
   "outputs": []
  },
  {
   "metadata": {},
   "cell_type": "code",
   "execution_count": null,
   "source": "",
   "id": "9319517835ece62a",
   "outputs": []
  }
 ],
 "metadata": {
  "kernelspec": {
   "display_name": "Python 3",
   "language": "python",
   "name": "python3"
  },
  "language_info": {
   "codemirror_mode": {
    "name": "ipython",
    "version": 2
   },
   "file_extension": ".py",
   "mimetype": "text/x-python",
   "name": "python",
   "nbconvert_exporter": "python",
   "pygments_lexer": "ipython2",
   "version": "2.7.6"
  }
 },
 "nbformat": 4,
 "nbformat_minor": 5
}
