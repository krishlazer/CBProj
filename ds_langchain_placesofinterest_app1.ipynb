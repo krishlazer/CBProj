{
 "cells": [
  {
   "metadata": {
    "ExecuteTime": {
     "end_time": "2024-05-03T13:31:29.099700Z",
     "start_time": "2024-05-03T13:31:24.753681Z"
    }
   },
   "cell_type": "code",
   "source": [
    "import langchain\n",
    "import openai"
   ],
   "id": "79597bedc2de91f8",
   "execution_count": 4,
   "outputs": []
  },
  {
   "metadata": {},
   "cell_type": "code",
   "execution_count": null,
   "source": "import os",
   "id": "c95ea980f1057331",
   "outputs": []
  },
  {
   "metadata": {},
   "cell_type": "code",
   "execution_count": null,
   "source": "openai_api_key = os.getenv(\"OPENAI_API_KEY\")",
   "id": "93b25e7f9bc490c2",
   "outputs": []
  },
  {
   "metadata": {
    "ExecuteTime": {
     "end_time": "2024-05-03T13:36:50.462651Z",
     "start_time": "2024-05-03T13:36:48.709693Z"
    }
   },
   "cell_type": "code",
   "source": [
    "from langchain_openai import OpenAI\n",
    "\n",
    "\n",
    "llm = OpenAI(temperature=0.7)\n",
    "name = llm(\"What is the currency used in Japan?\")\n",
    "print(name)"
   ],
   "id": "f8c3b7501f323091",
   "execution_count": 14,
   "outputs": []
  },
  {
   "metadata": {
    "ExecuteTime": {
     "end_time": "2024-05-03T13:41:57.491305Z",
     "start_time": "2024-05-03T13:41:57.462495Z"
    }
   },
   "cell_type": "code",
   "source": [
    "from langchain.prompts import PromptTemplate\n",
    "\n",
    "prompt_template_name = PromptTemplate(\n",
    "    input_variables = ['country'],\n",
    "    template = \"What is the currency used in {country}?\"\n",
    ")\n",
    "\n",
    "prompt_template_name.format(country=\"South Africa\")"
   ],
   "id": "c64c25257151fb73",
   "execution_count": 16,
   "outputs": []
  },
  {
   "metadata": {
    "ExecuteTime": {
     "end_time": "2024-05-03T13:45:38.593262Z",
     "start_time": "2024-05-03T13:45:37.592208Z"
    }
   },
   "cell_type": "code",
   "source": [
    "from langchain.chains import LLMChain\n",
    "\n",
    "chain = LLMChain(llm=llm, prompt=prompt_template_name)\n",
    "chain.invoke(\"Russia\")"
   ],
   "id": "8ae83af25c8f07e6",
   "execution_count": 19,
   "outputs": []
  },
  {
   "metadata": {
    "ExecuteTime": {
     "end_time": "2024-05-03T14:05:26.143490Z",
     "start_time": "2024-05-03T14:05:26.124952Z"
    }
   },
   "cell_type": "code",
   "source": [
    "prompt_template_name = PromptTemplate(\n",
    "    input_variables = ['country'],\n",
    "    template = \"What is the currency used in {country}?\"\n",
    ")\n",
    "\n",
    "currency_chain = LLMChain(llm=llm, prompt=prompt_template_name)\n",
    "\n",
    "promt_template_places = PromptTemplate(\n",
    "    input_variables = ['currency'],\n",
    "    template = \"\"\"What are the places of interest in a country where the currency is {currency}? Return it as comma separated values.\"\"\"\n",
    ")\n",
    "\n",
    "places_of_interest_chain = LLMChain(llm=llm, prompt=promt_template_places)"
   ],
   "id": "75ae776c152c5f41",
   "execution_count": 22,
   "outputs": []
  },
  {
   "metadata": {
    "ExecuteTime": {
     "end_time": "2024-05-03T14:11:35.972583Z",
     "start_time": "2024-05-03T14:11:33.399764Z"
    }
   },
   "cell_type": "code",
   "source": [
    "from langchain.chains import SimpleSequentialChain\n",
    "\n",
    "chain = SimpleSequentialChain(chains = [currency_chain, places_of_interest_chain])\n",
    "response = chain.invoke(\"India\")\n",
    "print(response)"
   ],
   "id": "86d884fd3bb77cb3",
   "execution_count": 26,
   "outputs": []
  },
  {
   "metadata": {
    "ExecuteTime": {
     "end_time": "2024-05-03T14:30:38.448515Z",
     "start_time": "2024-05-03T14:30:36.852531Z"
    }
   },
   "cell_type": "code",
   "source": [
    "llm = OpenAI(temperature=0.7)\n",
    "\n",
    "prompt_template_name = PromptTemplate(\n",
    "    input_variables = ['country'],\n",
    "    template = \"What is the currency used in {country}?\"\n",
    ")\n",
    "\n",
    "currency_chain = LLMChain(llm=llm, prompt=prompt_template_name, output_key = \"currency\")\n",
    "\n",
    "llm = OpenAI(temperature=0.7)\n",
    "\n",
    "prompt_template_places = PromptTemplate(\n",
    "    input_variables = ['currency'],\n",
    "    template = \"What are the places of interest which can be visited with {currency}?\"\n",
    ")\n",
    "\n",
    "currency_chain = LLMChain(llm=llm, prompt=prompt_template_name, output_key = \"currency\")\n",
    "\n",
    "places_of_interest_chain = LLMChain(llm=llm, prompt=prompt_template_places, output_key = \"places_of_interest\")"
   ],
   "id": "6d3d2854d1d05b5d",
   "execution_count": 27,
   "outputs": []
  },
  {
   "metadata": {
    "ExecuteTime": {
     "end_time": "2024-05-03T14:38:43.357083Z",
     "start_time": "2024-05-03T14:38:39.827509Z"
    }
   },
   "cell_type": "code",
   "source": [
    "from langchain.chains import SequentialChain\n",
    "\n",
    "chain = SequentialChain(\n",
    "    chains = [currency_chain, places_of_interest_chain], input_variables = ['country'],\n",
    "output_variables = ['currency', 'places_of_interest'])\n",
    "chain.invoke({'country': 'Australia'})"
   ],
   "id": "d6b722e2614f4495",
   "execution_count": 31,
   "outputs": []
  },
  {
   "metadata": {},
   "cell_type": "code",
   "execution_count": null,
   "source": "",
   "id": "aba1bc6e2f9f012a",
   "outputs": []
  },
  {
   "metadata": {},
   "cell_type": "code",
   "execution_count": null,
   "source": "",
   "id": "854b4b824805aae5",
   "outputs": []
  },
  {
   "metadata": {},
   "cell_type": "code",
   "execution_count": null,
   "source": "",
   "id": "719fc87dd1726fa6",
   "outputs": []
  },
  {
   "metadata": {},
   "cell_type": "code",
   "execution_count": null,
   "source": "",
   "id": "dd3857ba56af044b",
   "outputs": []
  },
  {
   "metadata": {},
   "cell_type": "code",
   "execution_count": null,
   "source": "",
   "id": "286d5dec4ae2f83b",
   "outputs": []
  },
  {
   "metadata": {},
   "cell_type": "code",
   "execution_count": null,
   "source": "",
   "id": "2c025933dc693623",
   "outputs": []
  },
  {
   "metadata": {},
   "cell_type": "code",
   "execution_count": null,
   "source": "",
   "id": "23f2f08eee11237f",
   "outputs": []
  },
  {
   "metadata": {},
   "cell_type": "code",
   "execution_count": null,
   "source": "",
   "id": "a1550e9a2fc5cc3d",
   "outputs": []
  }
 ],
 "metadata": {
  "kernelspec": {
   "display_name": "Python 3",
   "language": "python",
   "name": "python3"
  },
  "language_info": {
   "codemirror_mode": {
    "name": "ipython",
    "version": 2
   },
   "file_extension": ".py",
   "mimetype": "text/x-python",
   "name": "python",
   "nbconvert_exporter": "python",
   "pygments_lexer": "ipython2",
   "version": "2.7.6"
  }
 },
 "nbformat": 4,
 "nbformat_minor": 5
}
